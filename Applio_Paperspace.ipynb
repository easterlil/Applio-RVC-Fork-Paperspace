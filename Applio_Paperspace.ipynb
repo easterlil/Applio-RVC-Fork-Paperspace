{
 "cells": [
  {
   "cell_type": "markdown",
   "id": "0f59c1aa-dc1a-47dc-85b5-bc09f320825f",
   "metadata": {},
   "source": [
    "# Paperspace notebook based on the Applio-RVC-Fork\n",
    "https://github.com/IAHispano/Applio-RVC-Fork\n",
    "\n",
    "### Free GPUS turn off at 6 hours, so make sure to backup anything you need by then!\n",
    "\n",
    "### To use tensorboard, open up terminals on the lefthand side and create a new terminal\n",
    "### use tensorboard --logdir /notebooks/Applio-RVC-Fork/logs --bind_all\n",
    "\n",
    "### tensorboard will give you a url, copy the first part into the NOTEBOOKID here\n",
    "### open the link in a new tab and it should work\n",
    "https://tensorboard-NOTEBOOKID.clg07azjl.paperspacegradient.com\n",
    "\n",
    "## This Notebook does not allow use of temp folders, please you the one provied here if you are using a free plan\n",
    "### https://github.com/easterlil/Applio-RVC-Fork-Paperspace/tree/Paperspace-Free-Tier"
   ]
  },
  {
   "cell_type": "code",
   "execution_count": null,
   "id": "8d837abf-0c83-4353-8be4-de94b25f1caf",
   "metadata": {
    "tags": []
   },
   "outputs": [],
   "source": [
    "import git\n",
    "from IPython.display import clear_output\n",
    "next_message = \"Step successfully completed, continue to the next step\"\n",
    "\n",
    "!pip install gitpython\n",
    "git.Repo.clone_from('https://github.com/easterlil/Applio-RVC-Fork-Paperspace.git', 'Applio-RVC-Fork')\n",
    "%cd /kaggle/working/Applio-RVC-Fork\n",
    "\n",
    "clear_output()\n",
    "print(next_message)"
   ]
  },
  {
   "cell_type": "code",
   "execution_count": null,
   "id": "02725756-8dbe-4af9-948a-ae4d9bab64b4",
   "metadata": {},
   "outputs": [],
   "source": [
    "%cd /notebooks/Applio-RVC-Fork\n",
    "from IPython.display import clear_output\n",
    "next_message = \"Step successfully completed, continue to the next step\"\n",
    "\n",
    "!apt-get update\n",
    "!apt-get -y install build-essential python3-dev ffmpeg\n",
    "!apt -y install -qq aria2\n",
    "clear_output()\n",
    "\n",
    "!pip install --upgrade setuptools wheel pip gdown\n",
    "clear_output()\n",
    "\n",
    "!pip install faiss-gpu fairseq gradio ffmpeg ffmpeg-python praat-parselmouth pyworld numpy==1.23.5 numba==0.56.4 librosa==0.9.1 nltk\n",
    "clear_output()\n",
    "\n",
    "!pip install --upgrade lxml\n",
    "!pip install bark\n",
    "!pip install gdown\n",
    "clear_output()\n",
    "\n",
    "!wget https://raw.githubusercontent.com/IAHispano/Applio-Utilities-Kaggle/main/requirements2.txt\n",
    "!wget https://raw.githubusercontent.com/IAHispano/Applio-Utilities-Kaggle/main/requirements1.txt\n",
    "!pip install -r requirements1.txt\n",
    "!pip install -r requirements2.txt\n",
    "\n",
    "clear_output()\n",
    "print(next_message)"
   ]
  },
  {
   "cell_type": "code",
   "execution_count": null,
   "id": "d3cba0f0-1847-4a1f-93bd-61d8efbd6ddd",
   "metadata": {},
   "outputs": [],
   "source": [
    "%cd /notebooks/Applio-RVC-Fork\n",
    "from IPython.display import clear_output\n",
    "next_message = \"Step successfully completed, continue to the next step\"\n",
    "\n",
    "!make basev1\n",
    "clear_output()\n",
    "\n",
    "!make basev2\n",
    "clear_output()\n",
    "\n",
    "!wget https://huggingface.co/lj1995/VoiceConversionWebUI/resolve/main/rmvpe.pt\n",
    "clear_output()\n",
    "\n",
    "clear_output()\n",
    "print(next_message"
   ]
  },
  {
   "cell_type": "code",
   "execution_count": null,
   "id": "dff7e439-8507-4897-9682-744b1ee3d341",
   "metadata": {},
   "outputs": [],
   "source": [
    "%cd /notebooks/Applio-RVC-Fork\n",
    "!python infer-web.py --paperspace --pycmd python"
   ]
  }
 ],
 "metadata": {
  "kernelspec": {
   "display_name": "Python 3 (ipykernel)",
   "language": "python",
   "name": "python3"
  },
  "language_info": {
   "codemirror_mode": {
    "name": "ipython",
    "version": 3
   },
   "file_extension": ".py",
   "mimetype": "text/x-python",
   "name": "python",
   "nbconvert_exporter": "python",
   "pygments_lexer": "ipython3",
   "version": "3.9.16"
  }
 },
 "nbformat": 4,
 "nbformat_minor": 5
}

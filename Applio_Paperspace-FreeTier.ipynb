{
 "cells": [
  {
   "cell_type": "markdown",
   "id": "0f59c1aa-dc1a-47dc-85b5-bc09f320825f",
   "metadata": {},
   "source": [
    "# Paperspace notebook based on the Applio-RVC-Fork\n",
    "https://github.com/IAHispano/Applio-RVC-Fork\n",
    "\n",
    "### This Notebook uses temp folders for training logs, they *will* delete once the machine shuts down so backup before the 6 hour mark\n",
    "\n",
    "### I wasn't able to get trained pth files to go to temp folders, so keep that in mind when choosing epoch count ect.\n",
    "\n",
    "### To use tensorboard, open up terminals on the lefthand side and create a new terminal.\n",
    "### use tensorboard --logdir /notebooks/Applio-RVC-Fork/logs --bind_all\n",
    "\n",
    "### tensorboard will give you a url, copy the first part into the NOTEBOOKID here\n",
    "### open the link in a new tab and it should work\n",
    "https://tensorboard-NOTEBOOKID.clg07azjl.paperspacegradient.com\n",
    "\n",
    "\n",
    "### side note: Inference does not use temp folders, downloading models will send them to the main weight and log folders"
   ]
  },
  {
   "cell_type": "code",
   "execution_count": 1,
   "id": "8d837abf-0c83-4353-8be4-de94b25f1caf",
   "metadata": {
    "execution": {
     "iopub.execute_input": "2023-09-15T05:48:53.852719Z",
     "iopub.status.busy": "2023-09-15T05:48:53.851649Z",
     "iopub.status.idle": "2023-09-15T05:49:19.318972Z",
     "shell.execute_reply": "2023-09-15T05:49:19.318274Z",
     "shell.execute_reply.started": "2023-09-15T05:48:53.852677Z"
    }
   },
   "outputs": [
    {
     "name": "stdout",
     "output_type": "stream",
     "text": [
      "Step successfully completed, continue to the next step\n"
     ]
    }
   ],
   "source": [
    "import git\n",
    "from IPython.display import clear_output\n",
    "next_message = \"Step successfully completed, continue to the next step\"\n",
    "\n",
    "!pip install gitpython\n",
    "git.Repo.clone_from('https://github.com/easterlil/Applio-RVC-Fork-Paperspace.git', 'Applio-RVC-Fork')\n",
    "%cd /notebooks/Applio-RVC-Fork\n",
    "\n",
    "clear_output()\n",
    "%mkdir /tmp/rvc/\n",
    "%mkdir /tmp/rvc/logs\n",
    "!wget https://raw.githubusercontent.com/easterlil/Applio-RVC-Fork-Paperspace/Paperspace-Free-Tier/mute.zip\n",
    "!unzip mute.zip -d /tmp/rvc/logs\n",
    "!rm mute.zip\n",
    "clear_output()\n",
    "print(next_message)"
   ]
  },
  {
   "cell_type": "code",
   "execution_count": null,
   "id": "02725756-8dbe-4af9-948a-ae4d9bab64b4",
   "metadata": {},
   "outputs": [],
   "source": [
    "%cd /notebooks/Applio-RVC-Fork\n",
    "from IPython.display import clear_output\n",
    "next_message = \"Step successfully completed, continue to the next step\"\n",
    "\n",
    "!apt-get update\n",
    "!apt-get -y install build-essential python3-dev ffmpeg\n",
    "!apt -y install -qq aria2\n",
    "clear_output()\n",
    "\n",
    "!pip install --upgrade setuptools wheel pip gdown\n",
    "clear_output()\n",
    "\n",
    "!pip install faiss-gpu fairseq gradio ffmpeg ffmpeg-python praat-parselmouth pyworld numpy==1.23.5 numba==0.56.4 librosa==0.9.1 nltk\n",
    "clear_output()\n",
    "\n",
    "!pip install --upgrade lxml\n",
    "!pip install bark\n",
    "!pip install gdown\n",
    "clear_output()\n",
    "\n",
    "!wget https://raw.githubusercontent.com/IAHispano/Applio-Utilities-Kaggle/main/requirements2.txt\n",
    "!wget https://raw.githubusercontent.com/IAHispano/Applio-Utilities-Kaggle/main/requirements1.txt\n",
    "!pip install -r requirements1.txt\n",
    "!pip install -r requirements2.txt\n",
    "\n",
    "clear_output()\n",
    "print(next_message)"
   ]
  },
  {
   "cell_type": "code",
   "execution_count": null,
   "id": "d3cba0f0-1847-4a1f-93bd-61d8efbd6ddd",
   "metadata": {},
   "outputs": [],
   "source": [
    "%cd /notebooks/Applio-RVC-Fork\n",
    "from IPython.display import clear_output\n",
    "next_message = \"Step successfully completed, continue to the next step\"\n",
    "\n",
    "!make basev1\n",
    "clear_output()\n",
    "\n",
    "!make basev2\n",
    "clear_output()\n",
    "\n",
    "!wget https://huggingface.co/lj1995/VoiceConversionWebUI/resolve/main/rmvpe.pt\n",
    "clear_output()\n",
    "\n",
    "clear_output()\n",
    "print(next_message"
   ]
  },
  {
   "cell_type": "code",
   "execution_count": null,
   "id": "dff7e439-8507-4897-9682-744b1ee3d341",
   "metadata": {},
   "outputs": [],
   "source": [
    "%cd /notebooks/Applio-RVC-Fork\n",
    "!python infer-web.py --paperspace --pycmd python"
   ]
  },
  {
   "cell_type": "markdown",
   "id": "e3a75fec-4577-4290-afdb-6fa5b4ec9f26",
   "metadata": {},
   "source": [
    "### Zip and Download Logs from Temp Folder locally\n",
    "Replace \"your_model\" with the name of your model\n",
    "right click and hit \"save link as\" on the zip"
   ]
  },
  {
   "cell_type": "code",
   "execution_count": 100,
   "id": "16f0dda2-1acd-453c-a510-760d985d864d",
   "metadata": {
    "execution": {
     "iopub.execute_input": "2023-09-15T06:48:05.784658Z",
     "iopub.status.busy": "2023-09-15T06:48:05.784307Z",
     "iopub.status.idle": "2023-09-15T06:48:06.645271Z",
     "shell.execute_reply": "2023-09-15T06:48:06.644084Z",
     "shell.execute_reply.started": "2023-09-15T06:48:05.784629Z"
    }
   },
   "outputs": [
    {
     "name": "stdout",
     "output_type": "stream",
     "text": [
      "/tmp/rvc/logs\n",
      "\tzip warning: name not matched: /tmp/rvc/logs/your_model\n",
      "\n",
      "zip error: Nothing to do! (your_model.zip)\n"
     ]
    },
    {
     "data": {
      "text/html": [
       "./<br>\n",
       "&nbsp;&nbsp;<a href='./bruh_logs.zip' target='_blank'>bruh_logs.zip</a><br>\n",
       "./bruh/<br>\n",
       "&nbsp;&nbsp;<a href='./bruh/added_IVF1_Flat_nprobe_1_bruh_v2.index' target='_blank'>added_IVF1_Flat_nprobe_1_bruh_v2.index</a><br>\n",
       "&nbsp;&nbsp;<a href='./bruh/total_fea.npy' target='_blank'>total_fea.npy</a><br>\n",
       "&nbsp;&nbsp;<a href='./bruh/trained_IVF1_Flat_nprobe_1_bruh_v2.index' target='_blank'>trained_IVF1_Flat_nprobe_1_bruh_v2.index</a><br>\n",
       "&nbsp;&nbsp;<a href='./bruh/preprocess.log' target='_blank'>preprocess.log</a><br>\n",
       "&nbsp;&nbsp;<a href='./bruh/extract_f0_feature.log' target='_blank'>extract_f0_feature.log</a><br>\n",
       "./bruh/0_gt_wavs/<br>\n",
       "&nbsp;&nbsp;<a href='./bruh/0_gt_wavs/0_1.wav' target='_blank'>0_1.wav</a><br>\n",
       "./bruh/1_16k_wavs/<br>\n",
       "&nbsp;&nbsp;<a href='./bruh/1_16k_wavs/0_1.wav' target='_blank'>0_1.wav</a><br>\n",
       "./bruh/2a_f0/<br>\n",
       "&nbsp;&nbsp;<a href='./bruh/2a_f0/0_1.wav.npy' target='_blank'>0_1.wav.npy</a><br>\n",
       "./bruh/2b-f0nsf/<br>\n",
       "&nbsp;&nbsp;<a href='./bruh/2b-f0nsf/0_1.wav.npy' target='_blank'>0_1.wav.npy</a><br>\n",
       "./bruh/3_feature768/<br>\n",
       "&nbsp;&nbsp;<a href='./bruh/3_feature768/0_1.npy' target='_blank'>0_1.npy</a><br>\n",
       "./mute/0_gt_wavs/<br>\n",
       "&nbsp;&nbsp;<a href='./mute/0_gt_wavs/mute40k.wav' target='_blank'>mute40k.wav</a><br>\n",
       "&nbsp;&nbsp;<a href='./mute/0_gt_wavs/mute48k.wav' target='_blank'>mute48k.wav</a><br>\n",
       "&nbsp;&nbsp;<a href='./mute/0_gt_wavs/mute32k.wav' target='_blank'>mute32k.wav</a><br>\n",
       "./mute/1_16k_wavs/<br>\n",
       "&nbsp;&nbsp;<a href='./mute/1_16k_wavs/mute.wav' target='_blank'>mute.wav</a><br>\n",
       "./mute/2a_f0/<br>\n",
       "&nbsp;&nbsp;<a href='./mute/2a_f0/mute.wav.npy' target='_blank'>mute.wav.npy</a><br>\n",
       "./mute/2b-f0nsf/<br>\n",
       "&nbsp;&nbsp;<a href='./mute/2b-f0nsf/mute.wav.npy' target='_blank'>mute.wav.npy</a><br>\n",
       "./mute/3_feature256/<br>\n",
       "&nbsp;&nbsp;<a href='./mute/3_feature256/mute.npy' target='_blank'>mute.npy</a><br>\n",
       "./mute/3_feature768/<br>\n",
       "&nbsp;&nbsp;<a href='./mute/3_feature768/mute.npy' target='_blank'>mute.npy</a><br>"
      ],
      "text/plain": [
       "./\n",
       "  bruh_logs.zip\n",
       "./bruh/\n",
       "  added_IVF1_Flat_nprobe_1_bruh_v2.index\n",
       "  total_fea.npy\n",
       "  trained_IVF1_Flat_nprobe_1_bruh_v2.index\n",
       "  preprocess.log\n",
       "  extract_f0_feature.log\n",
       "./bruh/0_gt_wavs/\n",
       "  0_1.wav\n",
       "./bruh/1_16k_wavs/\n",
       "  0_1.wav\n",
       "./bruh/2a_f0/\n",
       "  0_1.wav.npy\n",
       "./bruh/2b-f0nsf/\n",
       "  0_1.wav.npy\n",
       "./bruh/3_feature768/\n",
       "  0_1.npy\n",
       "./mute/0_gt_wavs/\n",
       "  mute40k.wav\n",
       "  mute48k.wav\n",
       "  mute32k.wav\n",
       "./mute/1_16k_wavs/\n",
       "  mute.wav\n",
       "./mute/2a_f0/\n",
       "  mute.wav.npy\n",
       "./mute/2b-f0nsf/\n",
       "  mute.wav.npy\n",
       "./mute/3_feature256/\n",
       "  mute.npy\n",
       "./mute/3_feature768/\n",
       "  mute.npy"
      ]
     },
     "execution_count": 100,
     "metadata": {},
     "output_type": "execute_result"
    }
   ],
   "source": [
    "%cd /tmp/rvc/logs\n",
    "from IPython.display import FileLink, FileLinks\n",
    "!zip your_model.zip /tmp/rvc/logs/your_model\n",
    "FileLinks('.')"
   ]
  }
 ],
 "metadata": {
  "kernelspec": {
   "display_name": "Python 3 (ipykernel)",
   "language": "python",
   "name": "python3"
  },
  "language_info": {
   "codemirror_mode": {
    "name": "ipython",
    "version": 3
   },
   "file_extension": ".py",
   "mimetype": "text/x-python",
   "name": "python",
   "nbconvert_exporter": "python",
   "pygments_lexer": "ipython3",
   "version": "3.9.16"
  }
 },
 "nbformat": 4,
 "nbformat_minor": 5
}

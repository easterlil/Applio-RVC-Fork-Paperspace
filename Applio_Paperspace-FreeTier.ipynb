{
 "cells": [
  {
   "cell_type": "markdown",
   "id": "0f59c1aa-dc1a-47dc-85b5-bc09f320825f",
   "metadata": {},
   "source": [
    "# Paperspace notebook based on the Applio-RVC-Fork\n",
    "https://github.com/IAHispano/Applio-RVC-Fork\n",
    "\n",
    "### This Notebook uses temp folders for training logs, they *will* delete once the machine shuts down so backup before the 6 hour mark\n",
    "\n",
    "### I wasn't able to get trained pth files to go to temp folders, so keep that in mind when choosing epoch count ect.\n",
    "\n",
    "### To use tensorboard, open up terminals on the lefthand side and create a new terminal.\n",
    "### use tensorboard --logdir /notebooks/Applio-RVC-Fork/logs --bind_all\n",
    "\n",
    "### tensorboard will give you a url, copy the first part into the NOTEBOOKID here\n",
    "### open the link in a new tab and it should work\n",
    "https://tensorboard-NOTEBOOKID.clg07azjl.paperspacegradient.com\n",
    "\n",
    "\n",
    "### side note: Inference does not use temp folders, downloading models will send them to the main weight and log folders"
   ]
  },
  {
   "cell_type": "code",
   "execution_count": 1,
   "id": "8d837abf-0c83-4353-8be4-de94b25f1caf",
   "metadata": {
    "execution": {
     "iopub.execute_input": "2023-09-15T04:01:46.182842Z",
     "iopub.status.busy": "2023-09-15T04:01:46.181096Z",
     "iopub.status.idle": "2023-09-15T04:01:48.285316Z",
     "shell.execute_reply": "2023-09-15T04:01:48.283989Z",
     "shell.execute_reply.started": "2023-09-15T04:01:46.182798Z"
    }
   },
   "outputs": [
    {
     "name": "stdout",
     "output_type": "stream",
     "text": [
      "/notebooks\n",
      "Cloning into 'Applio-RVC-Fork'...\n",
      "remote: Enumerating objects: 4547, done.\u001b[K\n",
      "remote: Counting objects: 100% (714/714), done.\u001b[K\n",
      "remote: Compressing objects: 100% (408/408), done.\u001b[K\n",
      "remote: Total 4547 (delta 375), reused 594 (delta 301), pack-reused 3833\u001b[K\n",
      "Receiving objects: 100% (4547/4547), 16.94 MiB | 28.91 MiB/s, done.\n",
      "Resolving deltas: 100% (2795/2795), done.\n",
      "/notebooks/Applio-RVC-Fork\n"
     ]
    }
   ],
   "source": [
    "import git\n",
    "from IPython.display import clear_output\n",
    "next_message = \"Step successfully completed, continue to the next step\"\n",
    "\n",
    "!pip install gitpython\n",
    "git.Repo.clone_from('https://github.com/IAHispano/Applio-RVC-Fork.git', 'Applio-RVC-Fork')\n",
    "%cd /notebooks/Applio-RVC-Fork\n",
    "\n",
    "clear_output()\n",
    "%mkdir /tmp/rvc/\n",
    "%mkdir /tmp/rvc/logs\n",
    "!wget https://raw.githubusercontent.com/easterlil/Applio-RVC-Fork-Paperspace/Paperspace-Free-Tier/mute.zip\n",
    "!unzip mute.zip -d /tmp/rvc/logs\n",
    "!rm mute.zip\n",
    "clear_output()\n",
    "print(next_message)"
   ]
  },
  {
   "cell_type": "code",
   "execution_count": null,
   "id": "02725756-8dbe-4af9-948a-ae4d9bab64b4",
   "metadata": {},
   "outputs": [],
   "source": [
    "%cd /notebooks/Applio-RVC-Fork\n",
    "from IPython.display import clear_output\n",
    "next_message = \"Step successfully completed, continue to the next step\"\n",
    "\n",
    "!apt-get update\n",
    "!apt-get -y install build-essential python3-dev ffmpeg\n",
    "!apt -y install -qq aria2\n",
    "clear_output()\n",
    "\n",
    "!pip install --upgrade setuptools wheel pip gdown\n",
    "clear_output()\n",
    "\n",
    "!pip install faiss-gpu fairseq gradio ffmpeg ffmpeg-python praat-parselmouth pyworld numpy==1.23.5 numba==0.56.4 librosa==0.9.1 nltk\n",
    "clear_output()\n",
    "\n",
    "!pip install --upgrade lxml\n",
    "!pip install bark\n",
    "!pip install gdown\n",
    "clear_output()\n",
    "\n",
    "!wget https://raw.githubusercontent.com/IAHispano/Applio-Utilities-Kaggle/main/requirements2.txt\n",
    "!wget https://raw.githubusercontent.com/IAHispano/Applio-Utilities-Kaggle/main/requirements1.txt\n",
    "!pip install -r requirements1.txt\n",
    "!pip install -r requirements2.txt\n",
    "\n",
    "clear_output()\n",
    "print(next_message)"
   ]
  },
  {
   "cell_type": "code",
   "execution_count": null,
   "id": "d3cba0f0-1847-4a1f-93bd-61d8efbd6ddd",
   "metadata": {},
   "outputs": [],
   "source": [
    "%cd /notebooks/Applio-RVC-Fork\n",
    "from IPython.display import clear_output\n",
    "next_message = \"Step successfully completed, continue to the next step\"\n",
    "\n",
    "!make basev1\n",
    "clear_output()\n",
    "\n",
    "!make basev2\n",
    "clear_output()\n",
    "\n",
    "!wget https://huggingface.co/lj1995/VoiceConversionWebUI/resolve/main/rmvpe.pt\n",
    "clear_output()\n",
    "\n",
    "clear_output()\n",
    "print(next_message"
   ]
  },
  {
   "cell_type": "code",
   "execution_count": null,
   "id": "dff7e439-8507-4897-9682-744b1ee3d341",
   "metadata": {},
   "outputs": [],
   "source": [
    "%cd /notebooks/Applio-RVC-Fork\n",
    "!python infer-web.py --paperspace --pycmd python"
   ]
  }
 ],
 "metadata": {
  "kernelspec": {
   "display_name": "Python 3 (ipykernel)",
   "language": "python",
   "name": "python3"
  },
  "language_info": {
   "codemirror_mode": {
    "name": "ipython",
    "version": 3
   },
   "file_extension": ".py",
   "mimetype": "text/x-python",
   "name": "python",
   "nbconvert_exporter": "python",
   "pygments_lexer": "ipython3",
   "version": "3.9.16"
  }
 },
 "nbformat": 4,
 "nbformat_minor": 5
}
